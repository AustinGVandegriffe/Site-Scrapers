{
 "cells": [
  {
   "cell_type": "code",
   "execution_count": null,
   "metadata": {},
   "outputs": [],
   "source": [
    "\"\"\"\n",
    "/// @file   Morningstart.ipynb\n",
    "/// @author Austin Vandegriffe\n",
    "/// @date   2020-09-17\n",
    "/// @brief  A webscraper for the Morningstar website. This is an exercise\n",
    "/// ## in webscraping and the following code is not to be misused. \n",
    "/// @style  K&R, and \"one true brace style\" (OTBS), and '_' variable naming\n",
    "\"\"\""
   ]
  },
  {
   "cell_type": "markdown",
   "metadata": {},
   "source": [
    "# Preliminaries"
   ]
  },
  {
   "cell_type": "markdown",
   "metadata": {},
   "source": [
    "You will need to have Selenium installed. The following demo uses Google's ChromeDriver. You need to:\n",
    "<ol>\n",
    "    <li>Open Chrome</li>\n",
    "    <li>Click on the vertical ellipses in the upper right corner</li>\n",
    "    <li>Click on settings</li>\n",
    "    <li>In the left margin menu click \"About Chrome\"</li>\n",
    "    <li>In the first box is a version number</li>\n",
    "    <li>Go to \"https://chromedriver.chromium.org/\"</li>\n",
    "    <li>Download the ChromeDriver that matches your version of Chrome</li>\n",
    "    <li>Place the download in the same directory as this program (I found this mitigates errors)</li>\n",
    "</ol>\n",
    "After you have done the above procedure you should be good to proceed."
   ]
  },
  {
   "cell_type": "markdown",
   "metadata": {},
   "source": [
    "# Imports"
   ]
  },
  {
   "cell_type": "code",
   "execution_count": null,
   "metadata": {},
   "outputs": [],
   "source": [
    "import selenium\n",
    "from selenium import webdriver\n",
    "from selenium.webdriver.common.keys import Keys\n",
    "from selenium.webdriver.support.select import Select\n",
    "\n",
    "import os\n",
    "import time\n",
    "\n",
    "BASE_DIR = os.getcwd()"
   ]
  },
  {
   "cell_type": "markdown",
   "metadata": {},
   "source": [
    "# Webdriver Setup & Startup"
   ]
  },
  {
   "cell_type": "code",
   "execution_count": null,
   "metadata": {},
   "outputs": [],
   "source": [
    "# Set Selenium download path\n",
    "path = BASE_DIR\n",
    "\n",
    "# Set webdriver options\n",
    "options = webdriver.ChromeOptions()\n",
    "options.add_argument('--no-sandbox')\n",
    "\n",
    "# Setup the browser metadata, can be found on the web\n",
    "profile = {\"plugins.plugins_list\": [{\"enabled\":False,\"name\":\"Chrome PDF Viewer\"}],\n",
    "        \"download\": {\n",
    "            \"prompt_for_download\": False,\n",
    "            \"default_directory\"  : f'{path}'\n",
    "    },\n",
    "    \"headers\": {\n",
    "            \"Accept\": \"text/html,application/xhtml+xml,application/xml;q=0.9,image/webp,image/apng,*/*;q=0.8,application/signed-exchange;v=b3\", \n",
    "            \"Accept-Language\": \"en-US,en;q=0.9\", \n",
    "            \"User-Agent\": \"Mozilla/5.0 (Windows NT 10.0; Win64; x64) AppleWebKit/537.36 (KHTML, like Gecko) Chrome/73.0.3683.103 Safari/537.36\"\n",
    "        },\n",
    "    \"json\": None, \n",
    "    \"method\": \"GET\"\n",
    "}\n",
    "\n",
    "# Set the profile\n",
    "options.add_experimental_option(\"prefs\",profile)\n",
    "\n",
    "# Create a browser instance\n",
    "driver = webdriver.Chrome(options = options)\n",
    "\n",
    "# Setup a page load waiting mechanism\n",
    "driver.implicitly_wait(3)"
   ]
  },
  {
   "cell_type": "markdown",
   "metadata": {},
   "source": [
    "# Morningstar"
   ]
  },
  {
   "cell_type": "markdown",
   "metadata": {},
   "source": [
    "For the following to work, the webdriver must be maximized. Some HTML elements may be hidden due Javascript adjustments (such as a suppressed search bar)."
   ]
  },
  {
   "cell_type": "markdown",
   "metadata": {},
   "source": [
    "### Go to the Morningstart website"
   ]
  },
  {
   "cell_type": "code",
   "execution_count": null,
   "metadata": {},
   "outputs": [],
   "source": [
    "driver.get(\"https://www.morningstar.com/\")"
   ]
  },
  {
   "cell_type": "markdown",
   "metadata": {},
   "source": [
    "### Search for the ticker you want"
   ]
  },
  {
   "cell_type": "code",
   "execution_count": null,
   "metadata": {},
   "outputs": [],
   "source": [
    "# Find the search bar\n",
    "el = driver.find_elements_by_class_name(\"mdc-site-search\")[0]\n",
    "el.click()\n",
    "\n",
    "# Click on searchbar to send keys\n",
    "el = driver.find_elements_by_xpath('//*[@placeholder=\"Search Quotes and Site\"]')[0]\n",
    "el.click()\n",
    "\n",
    "# Send ticker keys\n",
    "ticker = \"APPL\"\n",
    "el.send_keys(ticker)\n",
    "el.submit()\n",
    "\n",
    "# Pause\n",
    "time.sleep(3)"
   ]
  },
  {
   "cell_type": "markdown",
   "metadata": {},
   "source": [
    "### Get the first search result"
   ]
  },
  {
   "cell_type": "code",
   "execution_count": null,
   "metadata": {},
   "outputs": [],
   "source": [
    "# There is a <div> header for the search results; however, it does not immediately have an <a> \n",
    "## tag like the search results tags, so find the first div with an immediate <a> tag, i.e. \n",
    "## <section>/<div>/<a>\n",
    "el = driver.find_elements_by_xpath('//section[@class=\"search-all__section\"]/div/a')[0]\n",
    "el.click()"
   ]
  },
  {
   "cell_type": "markdown",
   "metadata": {},
   "source": [
    "### Close any popups"
   ]
  },
  {
   "cell_type": "code",
   "execution_count": null,
   "metadata": {},
   "outputs": [],
   "source": [
    "# Check for Popup. The particular popup I was exposed to has a \"Dismiss\" in the corner, so I \n",
    "## searched for all places \"Dismiss\" showed up\n",
    "for el in driver.find_elements_by_xpath('//span[contains(text(), \"Dismiss\")]'):\n",
    "    el.click()"
   ]
  },
  {
   "cell_type": "markdown",
   "metadata": {},
   "source": [
    "### Open the chart widget"
   ]
  },
  {
   "cell_type": "code",
   "execution_count": null,
   "metadata": {},
   "outputs": [],
   "source": [
    "# Display chart\n",
    "el = driver.find_elements_by_xpath('//*[@class=\"chart-iframe-full-chart-label\"]')[0]\n",
    "el.click()\n",
    "\n",
    "# The chart takes a second to load, so sleep for a couple seconds, this is also good practice\n",
    "## as it slows the crawler down a bit making it less suspicous.\n",
    "time.sleep(5)"
   ]
  },
  {
   "cell_type": "markdown",
   "metadata": {},
   "source": [
    "### Select start date"
   ]
  },
  {
   "cell_type": "code",
   "execution_count": null,
   "metadata": {},
   "outputs": [],
   "source": [
    "# Select start date dropdown\n",
    "el = driver.find_elements_by_xpath('//div[@data-menuid=\"mkts-cmpt-svgcht-start-date\"]')[0]\n",
    "el.click()\n",
    "\n",
    "# Pause\n",
    "time.sleep(0.5)"
   ]
  },
  {
   "cell_type": "code",
   "execution_count": null,
   "metadata": {},
   "outputs": [],
   "source": [
    "# Display month/year selection\n",
    "el = driver.find_elements_by_xpath('//div[@class=\"mkts-cmpt-datepicker-label\"]')[0]\n",
    "el.click()\n",
    "\n",
    "# Pause\n",
    "time.sleep(0.5)"
   ]
  },
  {
   "cell_type": "code",
   "execution_count": null,
   "metadata": {},
   "outputs": [],
   "source": [
    "# Scroll year of interest into view\n",
    "year_of_interest = 1997\n",
    "dropdown_years = set([])\n",
    "while str(year_of_interest) not in dropdown_years:\n",
    "    el = driver.find_elements_by_xpath('//ul[@class=\"mkts-cmpt-datepicker-select mkts-cmpt-datepicker-select-year mkts-cmpt-datepicker-content-panel\"]')[0]\n",
    "    driver.execute_script('arguments[0].focus(); arguments[0].scrollTop = 0;', el)\n",
    "    tmp = driver.find_elements_by_xpath('//ul[@class=\"mkts-cmpt-datepicker-select mkts-cmpt-datepicker-select-year mkts-cmpt-datepicker-content-panel\"]/li')\n",
    "    dropdown_years = dropdown_years.union([t.text for t in tmp])"
   ]
  },
  {
   "cell_type": "code",
   "execution_count": null,
   "metadata": {},
   "outputs": [],
   "source": [
    "# Select the year of interst to display the months\n",
    "el = driver.find_elements_by_xpath(f'//ul[@class=\"mkts-cmpt-datepicker-select mkts-cmpt-datepicker-select-year mkts-cmpt-datepicker-content-panel\"]/li[@data-year=\"{year_of_interest}\"]')[0]\n",
    "el.click()\n",
    "\n",
    "# Pause\n",
    "time.sleep(1)"
   ]
  },
  {
   "cell_type": "code",
   "execution_count": null,
   "metadata": {},
   "outputs": [],
   "source": [
    "# Select the numeric month of interest, i.e. January = 1 and December = 12\n",
    "month_of_interest = 9\n",
    "# The tags are in a list, hence they are ZERO indexed, so take 1 away from the month_of_interest\n",
    "## to select appropriate month\n",
    "el = driver.find_elements_by_xpath(f'//ul[@class=\"mkts-cmpt-datepicker-select mkts-cmpt-datepicker-select-month\"]/li[@data-month=\"{month_of_interest-1}\"]')[0]\n",
    "el.click()\n",
    "\n",
    "# Pause\n",
    "time.sleep(1)"
   ]
  },
  {
   "cell_type": "code",
   "execution_count": null,
   "metadata": {},
   "outputs": [],
   "source": [
    "# Select the day of interest\n",
    "day_of_interest = 30\n",
    "days = driver.find_elements_by_class_name('mkts-cmpt-datepicker-day')\n",
    "# The FULL weeks are displayed so if the first is on a Wednesday, the ending days from\n",
    "## the previous month will be displayed for Sunday-Tuesday, omit these in case you are\n",
    "## looking for the 30 of the month as there may be two 30s that show up\n",
    "while int(days[0].text) != 1:\n",
    "    days = days[1:]\n",
    "# We don't need to filter the end of the month but here is how I would do it, each month\n",
    "## ends with at least 28 days, so if day/10 < 2 it will be the beginning of the next month\n",
    "## so we omit those.\n",
    "while int(days[-1].text)/10 < 1:\n",
    "    days = days[:-1]\n",
    "\n",
    "# Now get the element for the day of interest, since the list, again, is zero indexed\n",
    "## we must subtract 1 from the date of interest.\n",
    "el = days[day_of_interest-1]\n",
    "el.click()\n",
    "\n",
    "# Pause\n",
    "time.sleep(3)"
   ]
  },
  {
   "cell_type": "markdown",
   "metadata": {},
   "source": [
    "### Select end date"
   ]
  },
  {
   "cell_type": "code",
   "execution_count": null,
   "metadata": {},
   "outputs": [],
   "source": [
    "# Select start date dropdown\n",
    "el = driver.find_elements_by_xpath('//div[@data-menuid=\"mkts-cmpt-svgcht-end-date\"]')[0]\n",
    "el.click()\n",
    "\n",
    "# Pause\n",
    "time.sleep(0.5)"
   ]
  },
  {
   "cell_type": "code",
   "execution_count": null,
   "metadata": {},
   "outputs": [],
   "source": [
    "# Display month/year selection\n",
    "el = driver.find_elements_by_xpath('//div[@class=\"mkts-cmpt-datepicker-label\"]')[0]\n",
    "el.click()\n",
    "\n",
    "# Pause\n",
    "time.sleep(0.5)"
   ]
  },
  {
   "cell_type": "code",
   "execution_count": null,
   "metadata": {},
   "outputs": [],
   "source": [
    "# Scroll year of interest into view\n",
    "year_of_interest = 1998\n",
    "dropdown_years = set([])\n",
    "while str(year_of_interest) not in dropdown_years:\n",
    "    el = driver.find_elements_by_xpath('//ul[@class=\"mkts-cmpt-datepicker-select mkts-cmpt-datepicker-select-year mkts-cmpt-datepicker-content-panel\"]')[0]\n",
    "    driver.execute_script('arguments[0].focus(); arguments[0].scrollTop = 0;', el)\n",
    "    tmp = driver.find_elements_by_xpath('//ul[@class=\"mkts-cmpt-datepicker-select mkts-cmpt-datepicker-select-year mkts-cmpt-datepicker-content-panel\"]/li')\n",
    "    dropdown_years = dropdown_years.union([t.text for t in tmp])"
   ]
  },
  {
   "cell_type": "code",
   "execution_count": null,
   "metadata": {},
   "outputs": [],
   "source": [
    "# Select the year of interst to display the months\n",
    "el = driver.find_elements_by_xpath(f'//ul[@class=\"mkts-cmpt-datepicker-select mkts-cmpt-datepicker-select-year mkts-cmpt-datepicker-content-panel\"]/li[@data-year=\"{year_of_interest}\"]')[0]\n",
    "el.click()\n",
    "\n",
    "# Pause\n",
    "time.sleep(1)"
   ]
  },
  {
   "cell_type": "code",
   "execution_count": null,
   "metadata": {},
   "outputs": [],
   "source": [
    "# Select the numeric month of interest, i.e. January = 1 and December = 12\n",
    "month_of_interest = 9\n",
    "# The tags are in a list, hence they are ZERO indexed, so take 1 away from the month_of_interest\n",
    "## to select appropriate month\n",
    "el = driver.find_elements_by_xpath(f'//ul[@class=\"mkts-cmpt-datepicker-select mkts-cmpt-datepicker-select-month\"]/li[@data-month=\"{month_of_interest-1}\"]')[0]\n",
    "el.click()\n",
    "\n",
    "# Pause\n",
    "time.sleep(1)"
   ]
  },
  {
   "cell_type": "code",
   "execution_count": null,
   "metadata": {},
   "outputs": [],
   "source": [
    "# Select the day of interest\n",
    "day_of_interest = 30\n",
    "days = driver.find_elements_by_class_name('mkts-cmpt-datepicker-day')\n",
    "# The FULL weeks are displayed so if the first is on a Wednesday, the ending days from\n",
    "## the previous month will be displayed for Sunday-Tuesday, omit these in case you are\n",
    "## looking for the 30 of the month as there may be two 30s that show up\n",
    "while int(days[0].text) != 1:\n",
    "    days = days[1:]\n",
    "# We don't need to filter the end of the month but here is how I would do it, each month\n",
    "## ends with at least 28 days, so if day/10 < 2 it will be the beginning of the next month\n",
    "## so we omit those.\n",
    "while int(days[-1].text)/10 < 1:\n",
    "    days = days[:-1]\n",
    "\n",
    "# Now get the element for the day of interest, since the list, again, is zero indexed\n",
    "## we must subtract 1 from the date of interest.\n",
    "el = days[day_of_interest-1]\n",
    "el.click()\n",
    "\n",
    "# Pause\n",
    "time.sleep(3)"
   ]
  },
  {
   "cell_type": "markdown",
   "metadata": {},
   "source": [
    "### Prepare data for download"
   ]
  },
  {
   "cell_type": "code",
   "execution_count": null,
   "metadata": {},
   "outputs": [],
   "source": [
    "# Rather than specifying a specific date, you can download the previous\n",
    "## 'one-day', 'five-day', 'fifteen-day', 'one-month', 'three-month', 'six-month'\n",
    "## 'y-t-d', 'one-year', 'three-year', 'five-year', 'ten-year','max'\n",
    "'''\n",
    "el = driver.find_elements_by_xpath('//*[@data-menuid=\"one-day\"]')[0]\n",
    "el.click()\n",
    "#'''\n",
    "\n",
    "# Select courseness dropdown\n",
    "el = driver.find_elements_by_xpath('//div[@class=\"mkts-cmpt-svgcht-freq-container\"]')[0]\n",
    "el.click()\n",
    "\n",
    "# Select courseness\n",
    "## 'd'=day; 'w'=week; 'm'=month\n",
    "## NOTE: for the most recent previous 3 months you can get 10,15,30, and 60 minute data\n",
    "## along with daily, weekly, and monthly. For the most recent 15 days you can get 5 minute data\n",
    "## along with all the prior one. For the most recent 5 days (including weekends) you can get 1 minute data\n",
    "el = driver.find_elements_by_xpath('//ul[@class=\"ul-freq-dropdown-list\"]/li[@data-value=\"d\"]/span')[0]\n",
    "el.click()\n",
    "\n",
    "# Download the data\n",
    "el = driver.find_elements_by_xpath('//span[@data-menuid=\"mkts-cmpt-svgcht-menuicn--export\"]')[0]\n",
    "el.click()"
   ]
  },
  {
   "cell_type": "markdown",
   "metadata": {},
   "source": [
    "# Closing Remarks"
   ]
  },
  {
   "cell_type": "markdown",
   "metadata": {},
   "source": [
    "The above code can be put in a loop or run be made to run in parallel. However, if you are scraping a website make sure you are kind to them. Place pauses (as I have) to slow down the scraper so that you are not bombarding the site with requests."
   ]
  }
 ],
 "metadata": {
  "kernelspec": {
   "display_name": "Python 3",
   "language": "python",
   "name": "python3"
  },
  "language_info": {
   "codemirror_mode": {
    "name": "ipython",
    "version": 3
   },
   "file_extension": ".py",
   "mimetype": "text/x-python",
   "name": "python",
   "nbconvert_exporter": "python",
   "pygments_lexer": "ipython3",
   "version": "3.8.3"
  },
  "latex_envs": {
   "LaTeX_envs_menu_present": true,
   "autoclose": false,
   "autocomplete": true,
   "bibliofile": "biblio.bib",
   "cite_by": "apalike",
   "current_citInitial": 1,
   "eqLabelWithNumbers": true,
   "eqNumInitial": 1,
   "hotkeys": {
    "equation": "Ctrl-E",
    "itemize": "Ctrl-I"
   },
   "labels_anchors": false,
   "latex_user_defs": false,
   "report_style_numbering": false,
   "user_envs_cfg": false
  },
  "varInspector": {
   "cols": {
    "lenName": 16,
    "lenType": 16,
    "lenVar": 40
   },
   "kernels_config": {
    "python": {
     "delete_cmd_postfix": "",
     "delete_cmd_prefix": "del ",
     "library": "var_list.py",
     "varRefreshCmd": "print(var_dic_list())"
    },
    "r": {
     "delete_cmd_postfix": ") ",
     "delete_cmd_prefix": "rm(",
     "library": "var_list.r",
     "varRefreshCmd": "cat(var_dic_list()) "
    }
   },
   "types_to_exclude": [
    "module",
    "function",
    "builtin_function_or_method",
    "instance",
    "_Feature"
   ],
   "window_display": false
  }
 },
 "nbformat": 4,
 "nbformat_minor": 4
}
